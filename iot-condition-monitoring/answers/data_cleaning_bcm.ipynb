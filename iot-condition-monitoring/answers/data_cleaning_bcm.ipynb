{
 "cells": [
  {
   "cell_type": "code",
   "execution_count": null,
   "id": "f4c51430-135b-4f1d-8053-0b0c9c58573e",
   "metadata": {},
   "outputs": [],
   "source": [
    "import pandas as pd\n",
    "import numpy as np\n",
    "import scipy.io\n",
    "import os\n",
    "import mat4py\n",
    "import matplotlib.pyplot as plt\n",
    "\n",
    "plt.rcParams[\"figure.figsize\"] = (20, 10)"
   ]
  },
  {
   "cell_type": "code",
   "execution_count": null,
   "id": "366f219b-39e2-4dbc-8602-989ad439a987",
   "metadata": {},
   "outputs": [],
   "source": [
    "# Data Intake\n",
    "data_dict = scipy.io.loadmat('file_path')\n",
    "data_array = data_dict[list(data_dict.keys())[3]]\n",
    "data = pd.DataFrame(data_array.flatten())"
   ]
  },
  {
   "cell_type": "code",
   "execution_count": null,
   "id": "20e85fa1-526e-4c83-b10c-5975232f9a64",
   "metadata": {},
   "outputs": [],
   "source": [
    "# Cleaning the dataframe and flattening the Columns for further analysis.\n",
    "\n",
    "def data_flatten(data):\n",
    "    for i in range(0,len(data.columns)):\n",
    "        if (len(data[data.columns[i]][0].flatten()) == 0):\n",
    "            continue\n",
    "        elif (len(data[data.columns[i]][0].flatten()) == 1):\n",
    "            data[data.columns[i]] = data[data.columns[i]].apply(lambda x: x.flatten()[0]) \n",
    "        elif (len(data[data.columns[i]][0].flatten()) > 1):\n",
    "            data[data.columns[i]] = data[data.columns[i]].apply(lambda x: x.flatten()) \n",
    "    return data"
   ]
  },
  {
   "cell_type": "code",
   "execution_count": null,
   "id": "10ed435b-b52f-42c0-b338-832c37f4cbb0",
   "metadata": {},
   "outputs": [],
   "source": [
    "# Merging the relevant data from the matlab files to form a holistic dataframe for further analysis.\n",
    "\n",
    "data_x = pd.DataFrame(data['X'][0].flatten())\n",
    "data_x = data_flatten(data_x)\n",
    "\n",
    "data_y = pd.DataFrame(data['Y'][0].flatten())\n",
    "data_y = data_flatten(data_y)\n",
    "\n",
    "final = data_x[['Raster','Data']].merge(data_y[data_y.columns.difference(['Unit',\n",
    "                                                                          'Description',\n",
    "                                                                          'DisplayIdentifier']\n",
    "                                                                          ,sort=False)]\n",
    "                                        , on = 'Raster', how = 'left')"
   ]
  },
  {
   "cell_type": "code",
   "execution_count": null,
   "id": "fc527044-a337-413c-9a46-8e8651e1909f",
   "metadata": {},
   "outputs": [],
   "source": [
    "#Separating the main metrics and additional metrics into different tables for further analysis\n",
    "\n",
    "metrics = pd.DataFrame(list(zip(final['Data_y'][3],\n",
    "                                final['Data_y'][4],\n",
    "                                final['Data_y'][5])),\n",
    "                       columns = list(final['Name'][3:6]))\n",
    "\n",
    "add_metric = pd.DataFrame(list(zip(final['Data_y'][0], \n",
    "                                   final['Data_y'][1],\n",
    "                                   final['Data_y'][2])),\n",
    "                          columns = list(final['Name'][0:3]))"
   ]
  }
 ],
 "metadata": {
  "kernelspec": {
   "display_name": "Python 3 (ipykernel)",
   "language": "python",
   "name": "python3"
  },
  "language_info": {
   "codemirror_mode": {
    "name": "ipython",
    "version": 3
   },
   "file_extension": ".py",
   "mimetype": "text/x-python",
   "name": "python",
   "nbconvert_exporter": "python",
   "pygments_lexer": "ipython3",
   "version": "3.9.7"
  }
 },
 "nbformat": 4,
 "nbformat_minor": 5
}
