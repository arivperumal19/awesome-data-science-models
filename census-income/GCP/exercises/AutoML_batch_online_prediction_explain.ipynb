{
 "cells": [
  {
   "cell_type": "markdown",
   "id": "bdc3fc6f-3aa8-4d89-92ed-75787d7cbb86",
   "metadata": {},
   "source": [
    "## Installation setup"
   ]
  },
  {
   "cell_type": "code",
   "execution_count": null,
   "id": "6cc1c0b9-81ae-4d10-a9da-83bd688bb6b7",
   "metadata": {},
   "outputs": [],
   "source": [
    "import os\n",
    "\n",
    "# The Vertex AI Workbench Notebook product has specific requirements\n",
    "IS_WORKBENCH_NOTEBOOK = os.getenv(\"DL_ANACONDA_HOME\") and not os.getenv(\"VIRTUAL_ENV\")\n",
    "\n",
    "IS_USER_MANAGED_WORKBENCH_NOTEBOOK = os.path.exists(\"/opt/deeplearning/metadata/env_version\")"
   ]
  },
  {
   "cell_type": "code",
   "execution_count": null,
   "id": "bc794c8e-b91a-489d-86b0-8f59ea984d43",
   "metadata": {},
   "outputs": [],
   "source": [
    "!pip3 install --user -q --upgrade google-cloud-aiplatform \\\n",
    "                                  google-cloud-storage \\\n",
    "                                  tensorflow"
   ]
  },
  {
   "cell_type": "markdown",
   "id": "35e69e98-2079-4d64-8d39-f34bd48a183c",
   "metadata": {},
   "source": [
    "Restart kernel"
   ]
  },
  {
   "cell_type": "markdown",
   "id": "aceadf6c-f569-4db5-b502-76c659a2560b",
   "metadata": {},
   "source": [
    "## Set variables"
   ]
  },
  {
   "cell_type": "code",
   "execution_count": null,
   "id": "f099909d-14ab-4421-933c-cff683369706",
   "metadata": {},
   "outputs": [],
   "source": [
    "# Set values acc. to your project/bucket\n",
    "PROJECT_ID = \"\"\n",
    "REGION = \"us-central1\"\n",
    "BUCKET_NAME = \"\"\n",
    "BUCKET_URI = f\"gs://{BUCKET_NAME}\""
   ]
  },
  {
   "cell_type": "code",
   "execution_count": null,
   "id": "13b1f357-2d7d-41e8-8760-ceaebabc3382",
   "metadata": {},
   "outputs": [],
   "source": [
    "!gsutil ls -al $BUCKET_URI"
   ]
  },
  {
   "cell_type": "markdown",
   "id": "73e31918-a7ea-4c1a-a080-f8233f913ec6",
   "metadata": {},
   "source": [
    "# AutoML Tabular"
   ]
  },
  {
   "cell_type": "code",
   "execution_count": null,
   "id": "d3d541fe-5f95-4f75-81a0-3ed1f16df834",
   "metadata": {},
   "outputs": [],
   "source": [
    "import pandas as pd\n",
    "import google.cloud.aiplatform as aip"
   ]
  },
  {
   "cell_type": "code",
   "execution_count": null,
   "id": "2502ded1-c560-4a77-ae58-143154e5e4db",
   "metadata": {},
   "outputs": [],
   "source": [
    "aip.init(project=PROJECT_ID,\n",
    "         staging_bucket=BUCKET_URI)"
   ]
  },
  {
   "cell_type": "markdown",
   "id": "ab1b1078-c874-498c-bd2e-078ce9fd6d42",
   "metadata": {},
   "source": [
    "### Data preparation"
   ]
  },
  {
   "cell_type": "markdown",
   "id": "35764307-cd01-4788-a506-c88683b4fee4",
   "metadata": {},
   "source": [
    "Check whether data is compatible with requirements of Vertex AI - AutoML - tabular data - classification. Make changes, if required."
   ]
  },
  {
   "cell_type": "markdown",
   "id": "5e7aac84-52c2-4147-be9b-d3f3b0937472",
   "metadata": {},
   "source": [
    "Reference: https://cloud.google.com/vertex-ai/docs/tabular-data/classification-regression/prepare-data"
   ]
  },
  {
   "cell_type": "code",
   "execution_count": null,
   "id": "73f63040-8396-41d0-9801-fc926e5683cc",
   "metadata": {},
   "outputs": [],
   "source": [
    "# Hint:\n",
    "df_train = pd.read_csv(\"<GCS-path-of-training-data>\")\n",
    "    \n",
    "df_train.columns\n",
    "\n",
    "# Write your code here"
   ]
  },
  {
   "cell_type": "code",
   "execution_count": null,
   "id": "c83bf7b8-cb97-47be-a900-ca2c91a7b739",
   "metadata": {},
   "outputs": [],
   "source": [
    "IMPORT_FILE = \"<GCS-path-of-csv-file-to-be-used-by-AutoML-Tabular-classification>\"\n",
    "\n",
    "df_train.head()"
   ]
  },
  {
   "cell_type": "code",
   "execution_count": null,
   "id": "b59d7594-506f-468e-b993-f08e4db2494e",
   "metadata": {},
   "outputs": [],
   "source": [
    "label_column = \"<name-of-target-column>\""
   ]
  },
  {
   "cell_type": "markdown",
   "id": "f92bb2d3-a11e-4dcc-9ecd-279413d7cfc6",
   "metadata": {},
   "source": [
    "### Create Vertex AI Dataset"
   ]
  },
  {
   "cell_type": "code",
   "execution_count": null,
   "id": "56c7adcb-c30d-47b3-b75a-2fbb5de97327",
   "metadata": {},
   "outputs": [],
   "source": [
    "dataset = aip.TabularDataset.create(\n",
    "                                    display_name=\"income-bracket-prediction\",\n",
    "                                    gcs_source=[IMPORT_FILE]\n",
    "                                   )\n",
    "\n",
    "print(dataset.resource_name)"
   ]
  },
  {
   "cell_type": "markdown",
   "id": "24f03a1c-c94b-42f3-8d47-2742eb3cc3bc",
   "metadata": {},
   "source": [
    "### Model training"
   ]
  },
  {
   "cell_type": "code",
   "execution_count": null,
   "id": "df3cfd38-7de7-4a18-b6e5-b29d1224349b",
   "metadata": {},
   "outputs": [],
   "source": [
    "# Fill appropriate values for the arguments below:\n",
    "training_job = aip.AutoMLTabularTrainingJob(\n",
    "                                            display_name=\"\",\n",
    "                                            optimization_prediction_type=\"<type-of-ML-problem>\",\n",
    "                                            optimization_objective=\"choose-your-metric\",\n",
    "                                           )\n",
    "\n",
    "print(training_job)"
   ]
  },
  {
   "cell_type": "code",
   "execution_count": null,
   "id": "d9c582bb-d068-43b3-8d4f-38a490e7517a",
   "metadata": {},
   "outputs": [],
   "source": [
    "# Fill appropriate values for the arguments below:\n",
    "model = training_job.run(\n",
    "                         dataset=,\n",
    "                         model_display_name=,\n",
    "                         training_fraction_split=,\n",
    "                         validation_fraction_split=,\n",
    "                         test_fraction_split=,\n",
    "                         budget_milli_node_hours=,\n",
    "                         disable_early_stopping=,\n",
    "                         target_column=,\n",
    "                       )"
   ]
  },
  {
   "cell_type": "markdown",
   "id": "a08a988a-ffef-4085-a7e9-af0974a6a8ce",
   "metadata": {},
   "source": [
    "## Batch prediction"
   ]
  },
  {
   "cell_type": "markdown",
   "id": "1c8d38b2-7f79-4b7c-b5b2-fc1da97b9388",
   "metadata": {},
   "source": [
    "Data preparation: Repeat the preprocessing (if any) performed before model training."
   ]
  },
  {
   "cell_type": "code",
   "execution_count": null,
   "id": "21fb09da-25d2-4d9e-bdf0-79b763048f23",
   "metadata": {},
   "outputs": [],
   "source": [
    "df_test = pd.read_csv(\"<GCS-path-of-test-data>\")\n",
    "\n",
    "columns_list = list(df_test.columns)\n",
    "\n",
    "# Write your code here"
   ]
  },
  {
   "cell_type": "code",
   "execution_count": null,
   "id": "9e6a6da9-9ee8-41c8-9f01-79976524b451",
   "metadata": {},
   "outputs": [],
   "source": [
    "# Fill appropriate values for below arguments..\n",
    "batch_predict_job = model.batch_predict(\n",
    "                                        job_display_name=,\n",
    "                                        gcs_source=,  # csv filepath for inferencing\n",
    "                                        gcs_destination_prefix=BUCKET_URI,\n",
    "                                        instances_format=\"csv\",\n",
    "                                        predictions_format=\"jsonl\",\n",
    "                                        generate_explanation=True,\n",
    "                                        sync=False,\n",
    "                                       )\n",
    "\n",
    "print(batch_predict_job)"
   ]
  },
  {
   "cell_type": "markdown",
   "id": "f082c0bc-ca16-402d-9b34-6f1a9e6ee76c",
   "metadata": {},
   "source": [
    "## Model explainability"
   ]
  },
  {
   "cell_type": "code",
   "execution_count": null,
   "id": "c8423579-f3cf-4de3-bed0-38712e196cd3",
   "metadata": {},
   "outputs": [],
   "source": [
    "bp_iter_outputs = batch_predict_job.iter_outputs()\n",
    "\n",
    "type(bp_iter_outputs)"
   ]
  },
  {
   "cell_type": "markdown",
   "id": "e8b57eca-918f-4201-a2cc-d415412361b3",
   "metadata": {},
   "source": [
    "Check GCS bucket for any file(s) with model explanations"
   ]
  },
  {
   "cell_type": "markdown",
   "id": "49938ebe-a47d-448a-982e-1fc3daa68389",
   "metadata": {},
   "source": [
    "## Online prediction"
   ]
  },
  {
   "cell_type": "markdown",
   "id": "ff0d12b3-0073-4d8c-bcd5-04977311333a",
   "metadata": {},
   "source": [
    "Deploy to endpoint"
   ]
  },
  {
   "cell_type": "code",
   "execution_count": null,
   "id": "391c65ea-a5b7-4d44-96ed-8170d64ff1f7",
   "metadata": {},
   "outputs": [],
   "source": [
    "endpoint = model.deploy(\n",
    "                        machine_type=\"<Choose-your-machine-type>\",\n",
    "                       )"
   ]
  },
  {
   "cell_type": "markdown",
   "id": "763de0ec-92e6-4a37-9d12-ae9866e9ad6d",
   "metadata": {},
   "source": [
    "Prepare/Send a payload for online prediction"
   ]
  },
  {
   "cell_type": "code",
   "execution_count": null,
   "id": "7187dd91-89d8-4e5f-97f6-ef97d0336c4e",
   "metadata": {},
   "outputs": [],
   "source": [
    "prediction = endpoint.predict(\n",
    "                                [\n",
    "                                    {\n",
    "                                        \"age\": \"\",\n",
    "                                        \"workclass\": \"\",\n",
    "                                        \"fnlwgt\": \"\",\n",
    "                                        \"education\": \"\",\n",
    "                                        \"education_num\": \"\",\n",
    "                                        \"marital_status\": \"\",\n",
    "                                        \"occupation\": \"\",\n",
    "                                        \"relationship\": \"\",\n",
    "                                        \"race\": \"\",\n",
    "                                        \"sex\": \"\",\n",
    "                                        \"capital_gain\": \"\",\n",
    "                                        \"capital_loss\": \"\",\n",
    "                                        \"hours_per_week\": \"\",\n",
    "                                        \"native_country\": \"\",\n",
    "                                    }\n",
    "                                ]\n",
    "                            )\n",
    "\n",
    "print(prediction)"
   ]
  }
 ],
 "metadata": {
  "environment": {
   "kernel": "python3",
   "name": "tf2-gpu.2-8.m103",
   "type": "gcloud",
   "uri": "gcr.io/deeplearning-platform-release/tf2-gpu.2-8:m103"
  },
  "kernelspec": {
   "display_name": "Python 3 (ipykernel)",
   "language": "python",
   "name": "python3"
  },
  "language_info": {
   "codemirror_mode": {
    "name": "ipython",
    "version": 3
   },
   "file_extension": ".py",
   "mimetype": "text/x-python",
   "name": "python",
   "nbconvert_exporter": "python",
   "pygments_lexer": "ipython3",
   "version": "3.7.12"
  }
 },
 "nbformat": 4,
 "nbformat_minor": 5
}
