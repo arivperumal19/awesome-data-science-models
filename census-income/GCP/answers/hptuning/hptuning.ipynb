{
 "cells": [
  {
   "cell_type": "markdown",
   "id": "3f8eefb2-be31-4c5f-b1ef-6ac3f1c0d183",
   "metadata": {},
   "source": [
    "## Initial setup"
   ]
  },
  {
   "cell_type": "code",
   "execution_count": null,
   "id": "f4273a2d-a419-4685-ac82-f1ea814e1892",
   "metadata": {},
   "outputs": [],
   "source": [
    "import os\n",
    "\n",
    "# The Vertex AI Workbench Notebook product has specific requirements\n",
    "IS_WORKBENCH_NOTEBOOK = os.getenv(\"DL_ANACONDA_HOME\")\n",
    "IS_USER_MANAGED_WORKBENCH_NOTEBOOK = os.path.exists(\n",
    "    \"/opt/deeplearning/metadata/env_version\"\n",
    ")\n",
    "\n",
    "# Vertex AI Notebook requires dependencies to be installed with '--user'\n",
    "!pip3 install --upgrade google-cloud-aiplatform --user -q"
   ]
  },
  {
   "cell_type": "markdown",
   "id": "35783d84-b155-4438-b9a6-3936cf4e372c",
   "metadata": {},
   "source": [
    "Restart kernel"
   ]
  },
  {
   "cell_type": "code",
   "execution_count": null,
   "id": "feec4ff9-f790-4a25-b7bf-f9eafcb74e55",
   "metadata": {},
   "outputs": [],
   "source": [
    "# Fill appropriate values..\n",
    "PROJECT_ID = \"\"\n",
    "REGION = \"us-central1\"\n",
    "BUCKET_NAME = \"\"\n",
    "BUCKET_URI = f\"gs://{BUCKET_NAME}\""
   ]
  },
  {
   "cell_type": "code",
   "execution_count": null,
   "id": "25c36d0f-a7ab-4258-9b0c-674dee2c6ad0",
   "metadata": {},
   "outputs": [],
   "source": [
    "import google.cloud.aiplatform as aiplatform\n",
    "from google.cloud.aiplatform import hyperparameter_tuning as hpt"
   ]
  },
  {
   "cell_type": "code",
   "execution_count": null,
   "id": "df6f25bf-4647-4a52-ad36-15e2e3094df2",
   "metadata": {},
   "outputs": [],
   "source": [
    "aiplatform.init(project=PROJECT_ID,\n",
    "                location=REGION,\n",
    "                staging_bucket=BUCKET_URI)"
   ]
  },
  {
   "cell_type": "markdown",
   "id": "1d3a505c-aebc-452b-99b4-35f34e22168f",
   "metadata": {},
   "source": [
    "## Create custom container image"
   ]
  },
  {
   "cell_type": "markdown",
   "id": "621f2a9f-73cc-45a9-a45c-f8ce1ca226da",
   "metadata": {},
   "source": [
    "Create repository in GCP Artifact Registry"
   ]
  },
  {
   "cell_type": "code",
   "execution_count": null,
   "id": "c98db1a8-f51f-489c-a3f9-2cb6165f34f1",
   "metadata": {},
   "outputs": [],
   "source": [
    "REPO_NAME='census-income'\n",
    "\n",
    "!gcloud artifacts repositories create $REPO_NAME \\\n",
    "--repository-format=docker \\\n",
    "--location=$REGION \\\n",
    "--description=\"Docker repository\""
   ]
  },
  {
   "cell_type": "code",
   "execution_count": null,
   "id": "3033df4e-5a04-4c5a-a929-faeb78e7a0d5",
   "metadata": {},
   "outputs": [],
   "source": [
    "!gcloud auth configure-docker {REGION}-docker.pkg.dev --quiet"
   ]
  },
  {
   "cell_type": "code",
   "execution_count": null,
   "id": "8dc57d4d-dc83-4031-a20b-65d4cf1bb462",
   "metadata": {},
   "outputs": [],
   "source": [
    "IMAGE_URI = (\n",
    "             f\"{REGION}-docker.pkg.dev/{PROJECT_ID}/{REPO_NAME}/xgboost_hptune:anurag\"\n",
    "            )"
   ]
  },
  {
   "cell_type": "code",
   "execution_count": null,
   "id": "7f4b5b0c-ec0a-4026-9163-2355524f7f4d",
   "metadata": {},
   "outputs": [],
   "source": [
    "!ls"
   ]
  },
  {
   "cell_type": "markdown",
   "id": "3467317c-18f4-4612-a99a-2267756067a8",
   "metadata": {},
   "source": [
    "Write a Dockerfile for your custom container"
   ]
  },
  {
   "cell_type": "markdown",
   "id": "4d79977c-bda6-4020-a1f1-4639e4ae75a8",
   "metadata": {},
   "source": [
    "## Build image and push to Artifact Registry"
   ]
  },
  {
   "cell_type": "code",
   "execution_count": null,
   "id": "5e12522a-cc0a-48cf-959a-0c33a4554fa2",
   "metadata": {},
   "outputs": [],
   "source": [
    "!docker build ./ -t $IMAGE_URI"
   ]
  },
  {
   "cell_type": "code",
   "execution_count": null,
   "id": "bde9c1f8-54e5-41ba-a7be-1eb0677c85bc",
   "metadata": {},
   "outputs": [],
   "source": [
    "!docker push $IMAGE_URI"
   ]
  },
  {
   "cell_type": "code",
   "execution_count": null,
   "id": "ca50bfc6-e802-421e-9f3e-eead1ffd83d8",
   "metadata": {},
   "outputs": [],
   "source": [
    "IMAGE_URI"
   ]
  },
  {
   "cell_type": "markdown",
   "id": "469bbef8-d275-4d54-9cdb-48622c4fb4ba",
   "metadata": {},
   "source": [
    "Check image on GCP console"
   ]
  },
  {
   "cell_type": "markdown",
   "id": "cd6cfdfc-26fa-4faf-af86-af154024c652",
   "metadata": {},
   "source": [
    "## Define specs"
   ]
  },
  {
   "cell_type": "markdown",
   "id": "711b1ce2-4216-4523-8201-b889edcbd609",
   "metadata": {},
   "source": [
    "Choose your hardware"
   ]
  },
  {
   "cell_type": "code",
   "execution_count": null,
   "id": "1f69e8a2-7867-48de-b802-365f48ff7931",
   "metadata": {},
   "outputs": [],
   "source": [
    "worker_pool_specs = [\n",
    "                        {\n",
    "                            \"machine_spec\": {\n",
    "                                            \"machine_type\": \"n1-standard-4\",\n",
    "                                            \"accelerator_type\": \"NVIDIA_TESLA_T4\",\n",
    "                                            \"accelerator_count\": 1,\n",
    "                                            },\n",
    "                            \"replica_count\": 1,\n",
    "                            \"container_spec\": {\n",
    "                                                \"image_uri\": IMAGE_URI\n",
    "                                              },\n",
    "                        }\n",
    "                    ]"
   ]
  },
  {
   "cell_type": "markdown",
   "id": "7c2a4601-fa4d-44f3-a39e-80fdddcff314",
   "metadata": {},
   "source": [
    "Set the search space for your chosen hyper-parameters"
   ]
  },
  {
   "cell_type": "code",
   "execution_count": null,
   "id": "b97c1548-a5c2-48db-89b2-647e83671130",
   "metadata": {},
   "outputs": [],
   "source": [
    "parameter_spec = {\n",
    "                  \"learning_rate\": hpt.DoubleParameterSpec(min=0.001,  # float\n",
    "                                                           max=0.1,  \n",
    "                                                           scale=\"log\"),\n",
    "                  \"max_depth\": hpt.DiscreteParameterSpec(values=[5, 10, 15, 20],  # int\n",
    "                                                         scale=None),\n",
    "                  \"scale_pos_weight\": hpt.DiscreteParameterSpec(values=[1, 3, 5, 7],  # int\n",
    "                                                                scale=None)\n",
    "                 }"
   ]
  },
  {
   "cell_type": "markdown",
   "id": "9b1ff2a7-b17d-4654-ab70-3473a69b655b",
   "metadata": {},
   "source": [
    "Set your model performance metric and the objective"
   ]
  },
  {
   "cell_type": "code",
   "execution_count": null,
   "id": "1dce19e8-8272-499a-bafc-f41bb19b4ff6",
   "metadata": {},
   "outputs": [],
   "source": [
    "metric_spec={'roc_auc':'maximize'}"
   ]
  },
  {
   "cell_type": "markdown",
   "id": "57b770de-8090-4545-b8e3-59a18dda215a",
   "metadata": {},
   "source": [
    "## Hyper-parameter Tuning job"
   ]
  },
  {
   "cell_type": "markdown",
   "id": "d8fe2f7e-0cc7-476f-81c7-eeae92548f7a",
   "metadata": {},
   "source": [
    "Provide appropriate values to following arguments.."
   ]
  },
  {
   "cell_type": "code",
   "execution_count": null,
   "id": "b0a9e3fe-f5c2-4299-8c7a-58dbd4045abf",
   "metadata": {},
   "outputs": [],
   "source": [
    "display_name = \"census-income-xgboost-hptune\"\n",
    "\n",
    "my_custom_job = aiplatform.CustomJob(\n",
    "                                     display_name=display_name,\n",
    "                                     worker_pool_specs=worker_pool_specs,\n",
    "                                     staging_bucket=BUCKET_URI,\n",
    "                                    )"
   ]
  },
  {
   "cell_type": "code",
   "execution_count": null,
   "id": "866003cd-541f-4568-8d1c-aa6b22e7d8e7",
   "metadata": {},
   "outputs": [],
   "source": [
    "hp_job = aiplatform.HyperparameterTuningJob(\n",
    "                                            display_name=display_name,\n",
    "                                            custom_job=my_custom_job,\n",
    "                                            metric_spec=metric_spec,\n",
    "                                            parameter_spec=parameter_spec,\n",
    "                                            max_trial_count=10,\n",
    "                                            parallel_trial_count=3,\n",
    "                                           )\n",
    "\n",
    "hp_job.run()"
   ]
  },
  {
   "cell_type": "markdown",
   "id": "bcf43ce7-bfd9-406a-8925-aa7bb021364f",
   "metadata": {},
   "source": [
    "Check output on GCP console"
   ]
  },
  {
   "cell_type": "code",
   "execution_count": null,
   "id": "444d2bbb-16f5-4f80-9f98-65c65deea946",
   "metadata": {},
   "outputs": [],
   "source": []
  }
 ],
 "metadata": {
  "environment": {
   "kernel": "python3",
   "name": "tf2-gpu.2-8.m103",
   "type": "gcloud",
   "uri": "gcr.io/deeplearning-platform-release/tf2-gpu.2-8:m103"
  },
  "kernelspec": {
   "display_name": "Python 3 (ipykernel)",
   "language": "python",
   "name": "python3"
  },
  "language_info": {
   "codemirror_mode": {
    "name": "ipython",
    "version": 3
   },
   "file_extension": ".py",
   "mimetype": "text/x-python",
   "name": "python",
   "nbconvert_exporter": "python",
   "pygments_lexer": "ipython3",
   "version": "3.7.12"
  }
 },
 "nbformat": 4,
 "nbformat_minor": 5
}
