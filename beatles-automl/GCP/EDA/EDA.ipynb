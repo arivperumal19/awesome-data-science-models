{
 "cells": [
  {
   "cell_type": "markdown",
   "id": "9db76421-aed0-4018-b96e-04ba3d40d45f",
   "metadata": {},
   "source": [
    "# The Beatles Machine Learning Data set\n",
    "\n",
    "Data for use on Machine Learning Model to predict those who will listen The Beatles based on other artists. There are two data sets of importance:\n",
    "\n",
    "* [file_out_2495.csv](../answers/file_out_2495.csv) a list of users who listened to at least 1 of the most 300 played artists. The columns are the play counts for each artists mentioned. The target is \"Likes the Beatles\"\n",
    "* file_out_2495_tags.csv Same as above but with also a count of the genre distribution. We will show you how to get this from cloud storage below.\n"
   ]
  },
  {
   "cell_type": "markdown",
   "id": "2b3017a6-7a7e-4cd4-aacb-128940770e48",
   "metadata": {},
   "source": [
    "## 1. how to get from cloud storage\n",
    "\n",
    "\n",
    "```python\n",
    "\n",
    "# first import the client\n",
    "from google.cloud import storage\n",
    "\n",
    "# the file path is:\n",
    "# gs://amazing-public-data/beatles/file_out_2495_tags.csv\n",
    "# we can break that out and where we want it to go\n",
    "bucket_name = \"amazing-public-data\"\n",
    "blob_name = \"beatles/file_out_2495_tags.csv\"\n",
    "destination_file_name = \"../answers/file_out_2495_tags.csv\"\n",
    "\n",
    "# first we start a gcs Client \n",
    "storage_client = storage.Client()\n",
    "\n",
    "# then we open a handle to the bucket\n",
    "bucket = storage_client.bucket(bucket_name)\n",
    "# we access the actual object, which is a file\n",
    "blob = bucket.blob(blob_name)\n",
    "# then we write that file to disc for using\n",
    "blob.download_to_filename(destination_file_name)\n",
    "\n",
    "\n",
    "```"
   ]
  },
  {
   "cell_type": "code",
   "execution_count": null,
   "id": "e4e84f7e-666c-44e3-8491-db71cb78d61b",
   "metadata": {},
   "outputs": [],
   "source": []
  },
  {
   "cell_type": "code",
   "execution_count": null,
   "id": "0859df22-36c2-4508-8703-a9f9c1c9d892",
   "metadata": {},
   "outputs": [],
   "source": []
  },
  {
   "cell_type": "code",
   "execution_count": null,
   "id": "52c391d5-7595-4b66-8b05-c9e9e18e3725",
   "metadata": {},
   "outputs": [],
   "source": []
  },
  {
   "cell_type": "markdown",
   "id": "210f645a-7fea-4255-8143-1b2e6f2ae473",
   "metadata": {},
   "source": [
    "## 2. Analyize the source of the data.\n",
    "\n",
    "The data comes from BigQuery public data sources. We will learn here how to query that data and take a look at it in this Jupyter notebook.\n",
    "\n",
    "One way to query the data using the magic `bigquery` in cells like so:\n",
    "\n",
    "```python\n",
    "%%bigquery artists_df\n",
    "SELECT      artist_name, COUNT(*)\n",
    "    FROM     `listenbrainz.listenbrainz.listen`\n",
    "    GROUP BY artist_name\n",
    "    ORDER BY COUNT(*) DESC\n",
    "    LIMIT   300;\n",
    "\n",
    "```\n",
    "\n",
    "This will give us the top 300 listened to artists.\n",
    "\n",
    "> note: if you get \"The default BigQuery Storage API client cannot be used, install the missing google-cloud-bigquery-storage and pyarrow packages to use it.\" Error you can install it like so:\n",
    "\n",
    "```\n",
    "!pip install google-cloud-bigquery-storage pyarrow\n",
    "```\n",
    "\n"
   ]
  },
  {
   "cell_type": "code",
   "execution_count": null,
   "id": "38c61537-e4c6-4cb8-a3ec-d225d106541c",
   "metadata": {},
   "outputs": [],
   "source": []
  },
  {
   "cell_type": "code",
   "execution_count": null,
   "id": "660d0c12-c12f-4994-a6a5-3e1336a05ebb",
   "metadata": {},
   "outputs": [],
   "source": []
  },
  {
   "cell_type": "code",
   "execution_count": null,
   "id": "3707226f-9973-431b-99e1-cdefd7b9140d",
   "metadata": {},
   "outputs": [],
   "source": []
  },
  {
   "cell_type": "markdown",
   "id": "983a04fd-43c6-4ace-8b8f-dd83e78072be",
   "metadata": {},
   "source": [
    "# 3. looking at the data\n",
    "\n",
    "The name afer bigquery is the dataframe name. That is a 'pandas' data frame you can read more about pandas here https://pandas.pydata.org/\n",
    "\n",
    "if you type the name of the pandas data frame in jupyter and hit return you will see some rows (please note your output may be different due to this data being updated constantly and the execution numbers to the left):\n",
    "\n",
    "![Pandas Output](./img/panda_example.png)\n",
    "\n",
    "\n"
   ]
  },
  {
   "cell_type": "code",
   "execution_count": null,
   "id": "09430883-9510-4068-ba07-252d5b2c4305",
   "metadata": {},
   "outputs": [],
   "source": []
  },
  {
   "cell_type": "code",
   "execution_count": null,
   "id": "906bfdfb-1168-40e3-9d84-56215c103f1b",
   "metadata": {},
   "outputs": [],
   "source": []
  },
  {
   "cell_type": "code",
   "execution_count": null,
   "id": "c3e62caa-b42f-4758-bab2-1d0cfbb002a1",
   "metadata": {},
   "outputs": [],
   "source": []
  },
  {
   "cell_type": "markdown",
   "id": "9e748496-de77-45e9-83b8-5ef40c661e44",
   "metadata": {},
   "source": [
    "## 4. exploring the input data set\n",
    "\n",
    "we used this data set above combined with last.fm's tags about each artist. The overlap of tags is informative data about what other artists one would like.\n",
    "\n",
    "```python\n",
    "import pandas as pd\n",
    "df_labelled = pd.read_csv(\"../answers/file_out_2495_tags.csv\")\n",
    "df_labelled[['user_name', 'tag_60s', 'Like_The_Beatles']]\n",
    "```\n",
    "\n",
    "![Pandas Output](./img/panda_example2.png)\n",
    "\n"
   ]
  },
  {
   "cell_type": "code",
   "execution_count": null,
   "id": "932c585a-7482-433b-bfd2-cb8ef3f39451",
   "metadata": {},
   "outputs": [],
   "source": []
  },
  {
   "cell_type": "code",
   "execution_count": null,
   "id": "fd266532-c328-4693-8209-476b41d220bf",
   "metadata": {},
   "outputs": [],
   "source": []
  },
  {
   "cell_type": "code",
   "execution_count": null,
   "id": "27474c9e-ffba-4428-bbbb-ff32cf44ad37",
   "metadata": {},
   "outputs": [],
   "source": []
  },
  {
   "cell_type": "markdown",
   "id": "c5a83ad9-0d50-4599-a6a6-a168560472f8",
   "metadata": {},
   "source": [
    "## EDA with help from some friends\n",
    "\n",
    "### Sweetviz\n",
    "\n",
    "\n",
    "Suggested packages you install:\n",
    "\n",
    "```\n",
    "!pip install sweetviz ydata-profiling\n",
    "```\n",
    "\n",
    "\n",
    "\n",
    "```python\n",
    "\n",
    "import sweetviz as sv\n",
    "\n",
    "train = df_labelled.sample(frac=0.8,random_state=200)\n",
    "test = df_labelled.drop(train.index)\n",
    "comparison = sv.compare([train, \"Train\"], [test, \"Test\"], target_feat=\"Like_The_Beatles\", pairwise_analysis='off')\n",
    "\n",
    "comparison.show_notebook(layout=\"vertical\", w=800, h=700, scale=0.8)\n",
    "```\n",
    "\n",
    "![Sweet Viz](./img/sweetviz.png)\n"
   ]
  },
  {
   "cell_type": "code",
   "execution_count": null,
   "id": "f7d926ce-bd74-4182-8cfd-f280dfcca44e",
   "metadata": {},
   "outputs": [],
   "source": []
  },
  {
   "cell_type": "code",
   "execution_count": null,
   "id": "25b59f23-e678-4e70-b0cd-62b38425611e",
   "metadata": {},
   "outputs": [],
   "source": []
  },
  {
   "cell_type": "code",
   "execution_count": null,
   "id": "d2222e71-c4d9-4015-8be4-7a93ea94452d",
   "metadata": {},
   "outputs": [],
   "source": []
  },
  {
   "cell_type": "markdown",
   "id": "9f8de50f-095f-40b9-9ef2-c3b1dd381680",
   "metadata": {},
   "source": [
    "### ydata profiling (was called pandas profiling)\n",
    "\n",
    "To generate a Python Profile report:\n",
    "\n",
    "```python\n",
    "from ydata_profiling import ProfileReport\n",
    "prof = ProfileReport(df_labelled, correlations=None, minimal=True)\n",
    "prof\n",
    "```\n",
    "\n",
    "![Sweet Viz](./img/panda_profile.png)\n",
    "\n"
   ]
  },
  {
   "cell_type": "code",
   "execution_count": null,
   "id": "8fd8aeca-a372-49ed-b34e-0c23859ff4cd",
   "metadata": {},
   "outputs": [],
   "source": []
  },
  {
   "cell_type": "code",
   "execution_count": null,
   "id": "6aeebc6f-599f-4ddc-b83c-321883f79436",
   "metadata": {},
   "outputs": [],
   "source": []
  },
  {
   "cell_type": "code",
   "execution_count": null,
   "id": "43dd2132-d938-4061-a853-fef6ed27c08d",
   "metadata": {},
   "outputs": [],
   "source": []
  }
 ],
 "metadata": {
  "environment": {
   "kernel": "python3",
   "name": "common-cpu.m105",
   "type": "gcloud",
   "uri": "gcr.io/deeplearning-platform-release/base-cpu:m105"
  },
  "kernelspec": {
   "display_name": "Python 3 (ipykernel)",
   "language": "python",
   "name": "python3"
  },
  "language_info": {
   "codemirror_mode": {
    "name": "ipython",
    "version": 3
   },
   "file_extension": ".py",
   "mimetype": "text/x-python",
   "name": "python",
   "nbconvert_exporter": "python",
   "pygments_lexer": "ipython3",
   "version": "3.7.12"
  }
 },
 "nbformat": 4,
 "nbformat_minor": 5
}
